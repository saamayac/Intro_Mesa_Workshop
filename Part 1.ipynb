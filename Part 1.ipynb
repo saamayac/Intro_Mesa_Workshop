{
 "cells": [
  {
   "cell_type": "code",
   "execution_count": 3,
   "id": "11b19d0e",
   "metadata": {},
   "outputs": [],
   "source": [
    "import mesa\n",
    "from mesa.experimental import JupyterViz\n",
    "\n",
    "import seaborn as sns\n",
    "import numpy as np\n",
    "import pandas as pd"
   ]
  },
  {
   "cell_type": "markdown",
   "id": "1293bdf8",
   "metadata": {},
   "source": [
    "# Agent-Based Modeling with Mesa: Tutorial Notebook\n",
    "\n",
    "This notebook provides a step-by-step guide to creating an agent-based model using the Mesa library. \n",
    "As we progress through the tutorial, we'll cover various aspects of creating, running, and analyzing agent-based models.\n",
    "\n",
    "**Table of Contents:**\n",
    "1. [Creating agents](#Creating-agents)\n",
    "2. [Creating the Model](#Creating-the-Model)\n",
    "3. [Adding the Scheduler](#Adding-the-Scheduler)\n",
    "4. [Agent Step](#Agent-Step)\n",
    "5. [Running the Model](#Running-the-Model)"
   ]
  },
  {
   "cell_type": "markdown",
   "id": "c5481243",
   "metadata": {},
   "source": [
    "## Creating agents\n",
    "\n",
    "Agents are the individual entities that act in the model. They are essential components of agent-based models, representing individual entities that interact within the system. In our model, agents represent individuals exchanging money, each with a unique identifier and wealth. In this section, we'll create the MoneyAgent class, which is an agent for part of a basic economic model. To create the MoneyAgent class, we extend the `mesa.Agent` class. This class contains attributes such as wealth and a unique identifier."
   ]
  },
  {
   "cell_type": "code",
   "execution_count": 4,
   "id": "fe8e7194",
   "metadata": {},
   "outputs": [],
   "source": [
    "from mesa import Agent\n",
    "\n",
    "class MoneyAgent(Agent):\n",
    "    def __init__(self, unique_id, model):\n",
    "        super().__init__(unique_id, model)\n",
    "        self.wealth = 1  # Initial wealth for each agent"
   ]
  },
  {
   "cell_type": "markdown",
   "id": "e96777b0",
   "metadata": {},
   "source": [
    "## Creating the Model\n",
    "\n",
    "The model represents the overall environment in which agents interact. It holds and manages all the agents on the grid and evolves in discrete time steps. In this section, we'll create the MoneyModel class, which manages agents and the model's evolution over time. To make the MoneyModel class, we extend the `mesa.Model` class. The model initializes with a specified number of agents and creates a scheduler to control agent activation."
   ]
  },
  {
   "cell_type": "code",
   "execution_count": 5,
   "id": "a1dff525",
   "metadata": {},
   "outputs": [],
   "source": [
    "from mesa import Model\n",
    "\n",
    "class MoneyModel(Model):\n",
    "    def __init__(self, num_agents):\n",
    "        super().__init__()\n",
    "        self.num_agents = num_agents\n",
    "        self.schedule = RandomActivation(self)\n",
    "        \n",
    "        # Create agents\n",
    "        for i in range(self.num_agents):\n",
    "            a = MoneyAgent(i, self)"
   ]
  },
  {
   "cell_type": "markdown",
   "id": "6c142cf7",
   "metadata": {},
   "source": [
    "## Adding the Scheduler\n",
    "\n",
    "The scheduler dictates agent activation order as well as model progression by one step; A step (also called tick) is the smallest unit of time in the model. In the example, the model will use `RandomActivation`, which activates all agents in a random order each step. Other Schdeulers types are `BaseScheduler` `RandomActivation` `SimultaneousActivation` `StagedActivation` `RandomActivationByType` `DiscreteEventScheduler`"
   ]
  },
  {
   "cell_type": "code",
   "execution_count": 6,
   "id": "9554bcc8",
   "metadata": {},
   "outputs": [],
   "source": [
    "class MoneyAgent(mesa.Agent):\n",
    "    \"\"\"An agent with fixed initial wealth.\"\"\"\n",
    "\n",
    "    def __init__(self, unique_id, model):\n",
    "        # Pass the parameters to the parent class.\n",
    "        super().__init__(unique_id, model)\n",
    "\n",
    "        # Create the agent's attribute and set the initial values.\n",
    "        self.wealth = 1\n",
    "\n",
    "    def step(self):\n",
    "        # The agent's step will go here.\n",
    "        # For demonstration purposes we will print the agent's unique_id\n",
    "        print(f\"Hi, I am an agent, you can call me {str(self.unique_id)}.\")\n",
    "\n",
    "\n",
    "class MoneyModel(mesa.Model):\n",
    "    \"\"\"A model with some number of agents.\"\"\"\n",
    "\n",
    "    def __init__(self, N):\n",
    "        super().__init__()\n",
    "        self.num_agents = N\n",
    "        # Create scheduler and assign it to the model\n",
    "        self.schedule = mesa.time.RandomActivation(self)\n",
    "\n",
    "        # Create agents\n",
    "        for i in range(self.num_agents):\n",
    "            a = MoneyAgent(i, self)\n",
    "            # Add the agent to the scheduler\n",
    "            self.schedule.add(a)\n",
    "\n",
    "    def step(self):\n",
    "        \"\"\"Advance the model by one step.\"\"\"\n",
    "\n",
    "        # The model's step will go here for now this will call the step method of each agent and print the agent's unique_id\n",
    "        self.schedule.step()"
   ]
  },
  {
   "cell_type": "markdown",
   "id": "7885d919",
   "metadata": {},
   "source": [
    "## Running the Model\n",
    "\n",
    "In this section, we'll run a basic simulation of our model by creating a model object and calling the `step` method."
   ]
  },
  {
   "cell_type": "code",
   "execution_count": 9,
   "id": "5b28c4aa",
   "metadata": {},
   "outputs": [
    {
     "name": "stdout",
     "output_type": "stream",
     "text": [
      "Hi, I am an agent, you can call me 1.\n",
      "Hi, I am an agent, you can call me 2.\n",
      "Hi, I am an agent, you can call me 5.\n",
      "Hi, I am an agent, you can call me 4.\n",
      "Hi, I am an agent, you can call me 6.\n",
      "Hi, I am an agent, you can call me 0.\n",
      "Hi, I am an agent, you can call me 8.\n",
      "Hi, I am an agent, you can call me 9.\n",
      "Hi, I am an agent, you can call me 3.\n",
      "Hi, I am an agent, you can call me 7.\n"
     ]
    }
   ],
   "source": [
    "num_agents = 10\n",
    "model = MoneyModel(num_agents)\n",
    "model.step()"
   ]
  },
  {
   "cell_type": "markdown",
   "id": "56347bd6",
   "metadata": {},
   "source": [
    "### exercise\n",
    " - Change the output of the agent \n",
    " - run the model a couple of times"
   ]
  },
  {
   "cell_type": "markdown",
   "id": "a70cd628",
   "metadata": {},
   "source": [
    "## Agent Step\n",
    "\n",
    "This section outlines the behavior of agents within each step of the model. Agents evaluate their wealth at each step and, if they possess funds, transfer one unit to a randomly selected agent. The agent's step method is invoked by the scheduler at every model step. To enable random agent selection, the model's random-number generator is utilized."
   ]
  },
  {
   "cell_type": "code",
   "execution_count": 10,
   "id": "1844851a",
   "metadata": {},
   "outputs": [
    {
     "name": "stdout",
     "output_type": "stream",
     "text": [
      "Overwriting starter_model/money_model.py\n"
     ]
    }
   ],
   "source": [
    "%%writefile starter_model/money_model.py\n",
    "import mesa\n",
    "\n",
    "# Defining agent step method\n",
    "class MoneyAgent(mesa.Agent):\n",
    "    def __init__(self, unique_id, model):\n",
    "        super().__init__(unique_id, model)\n",
    "        self.wealth = 1  # Initial wealth for each agent\n",
    "\n",
    "    def step(self):\n",
    "        if self.wealth > 0:\n",
    "            other_agent = self.random.choice(self.model.schedule.agents)\n",
    "            other_agent.wealth += 1\n",
    "            self.wealth -= 1\n",
    "\n",
    "\n",
    "class MoneyModel(mesa.Model):\n",
    "    \"\"\"A model with some number of agents.\"\"\"\n",
    "\n",
    "    def __init__(self, N):\n",
    "        super().__init__()\n",
    "        self.num_agents = N\n",
    "        # Create scheduler and assign it to the model\n",
    "        self.schedule = mesa.time.RandomActivation(self)\n",
    "\n",
    "        # Create agents\n",
    "        for i in range(self.num_agents):\n",
    "            a = MoneyAgent(i, self)\n",
    "            # Add the agent to the scheduler\n",
    "            self.schedule.add(a)\n",
    "\n",
    "    def step(self):\n",
    "        \"\"\"Advance the model by one step.\"\"\"\n",
    "\n",
    "        # The model's step will go here for now this will call the step method of each agent and print the agent's unique_id\n",
    "        self.schedule.step()"
   ]
  },
  {
   "cell_type": "code",
   "execution_count": 11,
   "id": "d7ff2336",
   "metadata": {},
   "outputs": [
    {
     "name": "stdout",
     "output_type": "stream",
     "text": [
      "Overwriting starter_model/run.py\n"
     ]
    }
   ],
   "source": [
    "%%writefile starter_model/run.py\n",
    "from money_model import MoneyModel\n",
    "\n",
    "model = MoneyModel(10)\n",
    "for i in range(10):\n",
    "    model.step()"
   ]
  },
  {
   "cell_type": "code",
   "execution_count": 12,
   "id": "a77bd476",
   "metadata": {},
   "outputs": [],
   "source": [
    "!python -W ignore starter_model/run.py"
   ]
  },
  {
   "cell_type": "markdown",
   "id": "7120d0e5",
   "metadata": {},
   "source": [
    "### exercise\n",
    "- delete -W ignore from last cell\n",
    " - change the code so the it chooses $k<n$ ($n$ number of agent in the simulation) agents instead of 1"
   ]
  },
  {
   "cell_type": "code",
   "execution_count": 13,
   "id": "561c05ee",
   "metadata": {},
   "outputs": [
    {
     "name": "stdout",
     "output_type": "stream",
     "text": [
      "Overwriting starter_model/run.py\n"
     ]
    }
   ],
   "source": [
    "%%writefile starter_model/run.py\n",
    "from money_model import MoneyModel\n",
    "import seaborn as sns\n",
    "\n",
    "all_wealth = []\n",
    "# This runs the model 100 times, each model executing 10 steps.\n",
    "for j in range(1000):\n",
    "    # Run the model\n",
    "    model = MoneyModel(10)\n",
    "    for i in range(10):\n",
    "        model.step()\n",
    "\n",
    "    # Store the results\n",
    "    for agent in model.schedule.agents:\n",
    "        all_wealth.append(agent.wealth)\n",
    "\n",
    "# Use seaborn\n",
    "g = sns.histplot(all_wealth, discrete=True, stat='density')\n",
    "g.set(title=\"Wealth distribution\", xlabel=\"Wealth\", ylabel=\"Number of agents\");\n",
    "g.figure.savefig(\"output.png\")"
   ]
  },
  {
   "cell_type": "code",
   "execution_count": 14,
   "id": "a4132e71",
   "metadata": {},
   "outputs": [],
   "source": [
    "!python -W ignore starter_model/run.py"
   ]
  },
  {
   "cell_type": "code",
   "execution_count": null,
   "id": "aa359590",
   "metadata": {},
   "outputs": [],
   "source": []
  }
 ],
 "metadata": {
  "kernelspec": {
   "display_name": "Python 3 (ipykernel)",
   "language": "python",
   "name": "python3"
  },
  "language_info": {
   "codemirror_mode": {
    "name": "ipython",
    "version": 3
   },
   "file_extension": ".py",
   "mimetype": "text/x-python",
   "name": "python",
   "nbconvert_exporter": "python",
   "pygments_lexer": "ipython3",
   "version": "3.12.6"
  }
 },
 "nbformat": 4,
 "nbformat_minor": 5
}
